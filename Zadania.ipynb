{
  "nbformat": 4,
  "nbformat_minor": 0,
  "metadata": {
    "colab": {
      "name": "Nauka_KOLOS.ipynb",
      "provenance": [],
      "collapsed_sections": []
    },
    "kernelspec": {
      "name": "python3",
      "display_name": "Python 3"
    },
    "language_info": {
      "name": "python"
    }
  },
  "cells": [
    {
      "cell_type": "markdown",
      "source": [
        "Zadanie 11. Napisz funkcję, która dla zadanego boku trójkąta równobocznego a zwraca pole (P=(a^2 √3)/4) i obwód (Ob=3a). [3p]                                                                                                                                                                                                                                                                            "
      ],
      "metadata": {
        "id": "SGy7Rgm5xkHa"
      }
    },
    {
      "cell_type": "code",
      "execution_count": null,
      "metadata": {
        "colab": {
          "base_uri": "https://localhost:8080/"
        },
        "id": "PJFA3Ev4xgin",
        "outputId": "533e0de1-e61f-4134-d4b2-bb4469fbfa30"
      },
      "outputs": [
        {
          "output_type": "stream",
          "name": "stdout",
          "text": [
            "6.928203230275509\n",
            "16\n"
          ]
        }
      ],
      "source": [
        "def trojkont(a):\n",
        "  pole = (a**2*3**(1/2))/4\n",
        "  obwod = 4*a\n",
        "  print(pole)\n",
        "  print (obwod)\n",
        "trojkont(4)"
      ]
    },
    {
      "cell_type": "code",
      "source": [
        "import pandas as pd\n",
        "import numpy as np\n",
        "import statsmodels.api as sm\n",
        "import statsmodels.formula.api as smf\n"
      ],
      "metadata": {
        "id": "RLC7snV8y8G0",
        "colab": {
          "base_uri": "https://localhost:8080/"
        },
        "outputId": "5cc54460-4e7e-4863-8542-ddc7e12b9b88"
      },
      "execution_count": null,
      "outputs": [
        {
          "output_type": "stream",
          "name": "stderr",
          "text": [
            "/usr/local/lib/python3.7/dist-packages/statsmodels/tools/_testing.py:19: FutureWarning: pandas.util.testing is deprecated. Use the functions in the public API at pandas.testing instead.\n",
            "  import pandas.util.testing as tm\n"
          ]
        }
      ]
    },
    {
      "cell_type": "code",
      "source": [
        "dane = pd.read_excel(\"zbior_danych_2.xlsx\")\n",
        "dane"
      ],
      "metadata": {
        "colab": {
          "base_uri": "https://localhost:8080/",
          "height": 488
        },
        "id": "UjJ43MDZzKch",
        "outputId": "839d86e1-398c-41b0-990e-9457229e969b"
      },
      "execution_count": null,
      "outputs": [
        {
          "output_type": "execute_result",
          "data": {
            "text/html": [
              "\n",
              "  <div id=\"df-7a1d5370-3b21-4cc1-accd-b12213280683\">\n",
              "    <div class=\"colab-df-container\">\n",
              "      <div>\n",
              "<style scoped>\n",
              "    .dataframe tbody tr th:only-of-type {\n",
              "        vertical-align: middle;\n",
              "    }\n",
              "\n",
              "    .dataframe tbody tr th {\n",
              "        vertical-align: top;\n",
              "    }\n",
              "\n",
              "    .dataframe thead th {\n",
              "        text-align: right;\n",
              "    }\n",
              "</style>\n",
              "<table border=\"1\" class=\"dataframe\">\n",
              "  <thead>\n",
              "    <tr style=\"text-align: right;\">\n",
              "      <th></th>\n",
              "      <th>plec</th>\n",
              "      <th>wiek</th>\n",
              "      <th>KLASA_MIEJSCOWOSCI</th>\n",
              "      <th>WOJEWODZTWO</th>\n",
              "      <th>eduk4_2011</th>\n",
              "      <th>lata_nauki_2011</th>\n",
              "      <th>fC4</th>\n",
              "      <th>fC11</th>\n",
              "      <th>fC37</th>\n",
              "      <th>fD4</th>\n",
              "      <th>fp3</th>\n",
              "      <th>fp29</th>\n",
              "      <th>fp40</th>\n",
              "      <th>fp41</th>\n",
              "      <th>fp55</th>\n",
              "      <th>fp56</th>\n",
              "      <th>fp58_1</th>\n",
              "      <th>fp58_2</th>\n",
              "      <th>fp58_3</th>\n",
              "      <th>fp58_4</th>\n",
              "      <th>fp58_5</th>\n",
              "      <th>fp58_6</th>\n",
              "      <th>fp58_7</th>\n",
              "      <th>fp58_8</th>\n",
              "      <th>fp58_9</th>\n",
              "      <th>fp58_10</th>\n",
              "      <th>fp58_11</th>\n",
              "      <th>fp58_12</th>\n",
              "      <th>fp58_13</th>\n",
              "      <th>fp58_14</th>\n",
              "      <th>fp58_15</th>\n",
              "      <th>fp58_16</th>\n",
              "      <th>fp58_17</th>\n",
              "      <th>fp58_18</th>\n",
              "      <th>fp58_19</th>\n",
              "      <th>fp58_20</th>\n",
              "      <th>fp58_21</th>\n",
              "      <th>fp58_22</th>\n",
              "      <th>fp58_23</th>\n",
              "      <th>fp65</th>\n",
              "      <th>fp66</th>\n",
              "      <th>fp70</th>\n",
              "      <th>fp106</th>\n",
              "    </tr>\n",
              "  </thead>\n",
              "  <tbody>\n",
              "    <tr>\n",
              "      <th>0</th>\n",
              "      <td>1</td>\n",
              "      <td>48</td>\n",
              "      <td>1</td>\n",
              "      <td>2</td>\n",
              "      <td>3</td>\n",
              "      <td>14</td>\n",
              "      <td>1</td>\n",
              "      <td>4</td>\n",
              "      <td>11</td>\n",
              "      <td>40</td>\n",
              "      <td>2</td>\n",
              "      <td>1</td>\n",
              "      <td>10</td>\n",
              "      <td>7</td>\n",
              "      <td>180</td>\n",
              "      <td>90</td>\n",
              "      <td>6</td>\n",
              "      <td>2</td>\n",
              "      <td>2</td>\n",
              "      <td>3</td>\n",
              "      <td>5</td>\n",
              "      <td>5</td>\n",
              "      <td>5</td>\n",
              "      <td>3</td>\n",
              "      <td>3</td>\n",
              "      <td>5</td>\n",
              "      <td>3</td>\n",
              "      <td>1</td>\n",
              "      <td>3</td>\n",
              "      <td>5</td>\n",
              "      <td>2</td>\n",
              "      <td>2</td>\n",
              "      <td>3</td>\n",
              "      <td>3</td>\n",
              "      <td>2</td>\n",
              "      <td>3</td>\n",
              "      <td>1</td>\n",
              "      <td>5</td>\n",
              "      <td>1</td>\n",
              "      <td>2000</td>\n",
              "      <td>3000</td>\n",
              "      <td>5</td>\n",
              "      <td>5</td>\n",
              "    </tr>\n",
              "    <tr>\n",
              "      <th>1</th>\n",
              "      <td>1</td>\n",
              "      <td>55</td>\n",
              "      <td>1</td>\n",
              "      <td>2</td>\n",
              "      <td>2</td>\n",
              "      <td>11</td>\n",
              "      <td>7</td>\n",
              "      <td>2</td>\n",
              "      <td>12</td>\n",
              "      <td>35</td>\n",
              "      <td>2</td>\n",
              "      <td>1</td>\n",
              "      <td>3</td>\n",
              "      <td>7</td>\n",
              "      <td>174</td>\n",
              "      <td>85</td>\n",
              "      <td>4</td>\n",
              "      <td>3</td>\n",
              "      <td>2</td>\n",
              "      <td>6</td>\n",
              "      <td>4</td>\n",
              "      <td>3</td>\n",
              "      <td>2</td>\n",
              "      <td>6</td>\n",
              "      <td>4</td>\n",
              "      <td>6</td>\n",
              "      <td>2</td>\n",
              "      <td>5</td>\n",
              "      <td>6</td>\n",
              "      <td>4</td>\n",
              "      <td>3</td>\n",
              "      <td>2</td>\n",
              "      <td>6</td>\n",
              "      <td>2</td>\n",
              "      <td>2</td>\n",
              "      <td>4</td>\n",
              "      <td>3</td>\n",
              "      <td>3</td>\n",
              "      <td>2</td>\n",
              "      <td>1900</td>\n",
              "      <td>3000</td>\n",
              "      <td>6</td>\n",
              "      <td>5</td>\n",
              "    </tr>\n",
              "    <tr>\n",
              "      <th>2</th>\n",
              "      <td>1</td>\n",
              "      <td>22</td>\n",
              "      <td>1</td>\n",
              "      <td>2</td>\n",
              "      <td>2</td>\n",
              "      <td>9</td>\n",
              "      <td>4</td>\n",
              "      <td>1</td>\n",
              "      <td>12</td>\n",
              "      <td>40</td>\n",
              "      <td>2</td>\n",
              "      <td>1</td>\n",
              "      <td>10</td>\n",
              "      <td>8</td>\n",
              "      <td>190</td>\n",
              "      <td>80</td>\n",
              "      <td>3</td>\n",
              "      <td>3</td>\n",
              "      <td>3</td>\n",
              "      <td>2</td>\n",
              "      <td>2</td>\n",
              "      <td>5</td>\n",
              "      <td>5</td>\n",
              "      <td>1</td>\n",
              "      <td>5</td>\n",
              "      <td>5</td>\n",
              "      <td>3</td>\n",
              "      <td>3</td>\n",
              "      <td>3</td>\n",
              "      <td>3</td>\n",
              "      <td>3</td>\n",
              "      <td>3</td>\n",
              "      <td>3</td>\n",
              "      <td>3</td>\n",
              "      <td>3</td>\n",
              "      <td>3</td>\n",
              "      <td>3</td>\n",
              "      <td>4</td>\n",
              "      <td>4</td>\n",
              "      <td>1100</td>\n",
              "      <td>2000</td>\n",
              "      <td>2</td>\n",
              "      <td>6</td>\n",
              "    </tr>\n",
              "    <tr>\n",
              "      <th>3</th>\n",
              "      <td>1</td>\n",
              "      <td>36</td>\n",
              "      <td>1</td>\n",
              "      <td>2</td>\n",
              "      <td>3</td>\n",
              "      <td>12</td>\n",
              "      <td>1</td>\n",
              "      <td>1</td>\n",
              "      <td>12</td>\n",
              "      <td>40</td>\n",
              "      <td>5</td>\n",
              "      <td>1</td>\n",
              "      <td>4</td>\n",
              "      <td>6</td>\n",
              "      <td>183</td>\n",
              "      <td>75</td>\n",
              "      <td>4</td>\n",
              "      <td>2</td>\n",
              "      <td>2</td>\n",
              "      <td>6</td>\n",
              "      <td>7</td>\n",
              "      <td>7</td>\n",
              "      <td>3</td>\n",
              "      <td>3</td>\n",
              "      <td>7</td>\n",
              "      <td>3</td>\n",
              "      <td>2</td>\n",
              "      <td>5</td>\n",
              "      <td>5</td>\n",
              "      <td>5</td>\n",
              "      <td>2</td>\n",
              "      <td>2</td>\n",
              "      <td>4</td>\n",
              "      <td>2</td>\n",
              "      <td>1</td>\n",
              "      <td>7</td>\n",
              "      <td>6</td>\n",
              "      <td>7</td>\n",
              "      <td>1</td>\n",
              "      <td>3000</td>\n",
              "      <td>6000</td>\n",
              "      <td>4</td>\n",
              "      <td>5</td>\n",
              "    </tr>\n",
              "    <tr>\n",
              "      <th>4</th>\n",
              "      <td>1</td>\n",
              "      <td>34</td>\n",
              "      <td>1</td>\n",
              "      <td>2</td>\n",
              "      <td>4</td>\n",
              "      <td>17</td>\n",
              "      <td>3</td>\n",
              "      <td>1</td>\n",
              "      <td>11</td>\n",
              "      <td>20</td>\n",
              "      <td>2</td>\n",
              "      <td>1</td>\n",
              "      <td>8</td>\n",
              "      <td>10</td>\n",
              "      <td>175</td>\n",
              "      <td>72</td>\n",
              "      <td>6</td>\n",
              "      <td>6</td>\n",
              "      <td>1</td>\n",
              "      <td>4</td>\n",
              "      <td>6</td>\n",
              "      <td>6</td>\n",
              "      <td>6</td>\n",
              "      <td>3</td>\n",
              "      <td>6</td>\n",
              "      <td>1</td>\n",
              "      <td>6</td>\n",
              "      <td>6</td>\n",
              "      <td>6</td>\n",
              "      <td>6</td>\n",
              "      <td>3</td>\n",
              "      <td>1</td>\n",
              "      <td>5</td>\n",
              "      <td>1</td>\n",
              "      <td>4</td>\n",
              "      <td>6</td>\n",
              "      <td>2</td>\n",
              "      <td>4</td>\n",
              "      <td>2</td>\n",
              "      <td>1200</td>\n",
              "      <td>6000</td>\n",
              "      <td>1</td>\n",
              "      <td>6</td>\n",
              "    </tr>\n",
              "    <tr>\n",
              "      <th>...</th>\n",
              "      <td>...</td>\n",
              "      <td>...</td>\n",
              "      <td>...</td>\n",
              "      <td>...</td>\n",
              "      <td>...</td>\n",
              "      <td>...</td>\n",
              "      <td>...</td>\n",
              "      <td>...</td>\n",
              "      <td>...</td>\n",
              "      <td>...</td>\n",
              "      <td>...</td>\n",
              "      <td>...</td>\n",
              "      <td>...</td>\n",
              "      <td>...</td>\n",
              "      <td>...</td>\n",
              "      <td>...</td>\n",
              "      <td>...</td>\n",
              "      <td>...</td>\n",
              "      <td>...</td>\n",
              "      <td>...</td>\n",
              "      <td>...</td>\n",
              "      <td>...</td>\n",
              "      <td>...</td>\n",
              "      <td>...</td>\n",
              "      <td>...</td>\n",
              "      <td>...</td>\n",
              "      <td>...</td>\n",
              "      <td>...</td>\n",
              "      <td>...</td>\n",
              "      <td>...</td>\n",
              "      <td>...</td>\n",
              "      <td>...</td>\n",
              "      <td>...</td>\n",
              "      <td>...</td>\n",
              "      <td>...</td>\n",
              "      <td>...</td>\n",
              "      <td>...</td>\n",
              "      <td>...</td>\n",
              "      <td>...</td>\n",
              "      <td>...</td>\n",
              "      <td>...</td>\n",
              "      <td>...</td>\n",
              "      <td>...</td>\n",
              "    </tr>\n",
              "    <tr>\n",
              "      <th>805</th>\n",
              "      <td>2</td>\n",
              "      <td>42</td>\n",
              "      <td>6</td>\n",
              "      <td>32</td>\n",
              "      <td>3</td>\n",
              "      <td>12</td>\n",
              "      <td>2</td>\n",
              "      <td>4</td>\n",
              "      <td>14</td>\n",
              "      <td>50</td>\n",
              "      <td>2</td>\n",
              "      <td>2</td>\n",
              "      <td>5</td>\n",
              "      <td>10</td>\n",
              "      <td>172</td>\n",
              "      <td>82</td>\n",
              "      <td>6</td>\n",
              "      <td>6</td>\n",
              "      <td>6</td>\n",
              "      <td>6</td>\n",
              "      <td>6</td>\n",
              "      <td>6</td>\n",
              "      <td>6</td>\n",
              "      <td>2</td>\n",
              "      <td>2</td>\n",
              "      <td>2</td>\n",
              "      <td>4</td>\n",
              "      <td>4</td>\n",
              "      <td>4</td>\n",
              "      <td>2</td>\n",
              "      <td>6</td>\n",
              "      <td>2</td>\n",
              "      <td>6</td>\n",
              "      <td>2</td>\n",
              "      <td>6</td>\n",
              "      <td>2</td>\n",
              "      <td>2</td>\n",
              "      <td>6</td>\n",
              "      <td>2</td>\n",
              "      <td>1200</td>\n",
              "      <td>3000</td>\n",
              "      <td>4</td>\n",
              "      <td>8</td>\n",
              "    </tr>\n",
              "    <tr>\n",
              "      <th>806</th>\n",
              "      <td>2</td>\n",
              "      <td>31</td>\n",
              "      <td>6</td>\n",
              "      <td>32</td>\n",
              "      <td>3</td>\n",
              "      <td>13</td>\n",
              "      <td>2</td>\n",
              "      <td>2</td>\n",
              "      <td>11</td>\n",
              "      <td>40</td>\n",
              "      <td>2</td>\n",
              "      <td>2</td>\n",
              "      <td>4</td>\n",
              "      <td>9</td>\n",
              "      <td>162</td>\n",
              "      <td>71</td>\n",
              "      <td>6</td>\n",
              "      <td>2</td>\n",
              "      <td>4</td>\n",
              "      <td>6</td>\n",
              "      <td>6</td>\n",
              "      <td>6</td>\n",
              "      <td>3</td>\n",
              "      <td>3</td>\n",
              "      <td>4</td>\n",
              "      <td>3</td>\n",
              "      <td>2</td>\n",
              "      <td>4</td>\n",
              "      <td>3</td>\n",
              "      <td>6</td>\n",
              "      <td>3</td>\n",
              "      <td>4</td>\n",
              "      <td>6</td>\n",
              "      <td>6</td>\n",
              "      <td>2</td>\n",
              "      <td>4</td>\n",
              "      <td>4</td>\n",
              "      <td>6</td>\n",
              "      <td>2</td>\n",
              "      <td>3000</td>\n",
              "      <td>3200</td>\n",
              "      <td>4</td>\n",
              "      <td>7</td>\n",
              "    </tr>\n",
              "    <tr>\n",
              "      <th>807</th>\n",
              "      <td>2</td>\n",
              "      <td>39</td>\n",
              "      <td>6</td>\n",
              "      <td>32</td>\n",
              "      <td>1</td>\n",
              "      <td>8</td>\n",
              "      <td>1</td>\n",
              "      <td>4</td>\n",
              "      <td>12</td>\n",
              "      <td>40</td>\n",
              "      <td>3</td>\n",
              "      <td>2</td>\n",
              "      <td>4</td>\n",
              "      <td>10</td>\n",
              "      <td>172</td>\n",
              "      <td>65</td>\n",
              "      <td>4</td>\n",
              "      <td>2</td>\n",
              "      <td>3</td>\n",
              "      <td>6</td>\n",
              "      <td>6</td>\n",
              "      <td>7</td>\n",
              "      <td>7</td>\n",
              "      <td>2</td>\n",
              "      <td>5</td>\n",
              "      <td>7</td>\n",
              "      <td>2</td>\n",
              "      <td>7</td>\n",
              "      <td>6</td>\n",
              "      <td>5</td>\n",
              "      <td>2</td>\n",
              "      <td>1</td>\n",
              "      <td>7</td>\n",
              "      <td>1</td>\n",
              "      <td>1</td>\n",
              "      <td>6</td>\n",
              "      <td>1</td>\n",
              "      <td>7</td>\n",
              "      <td>1</td>\n",
              "      <td>1300</td>\n",
              "      <td>2000</td>\n",
              "      <td>6</td>\n",
              "      <td>7</td>\n",
              "    </tr>\n",
              "    <tr>\n",
              "      <th>808</th>\n",
              "      <td>2</td>\n",
              "      <td>52</td>\n",
              "      <td>6</td>\n",
              "      <td>32</td>\n",
              "      <td>2</td>\n",
              "      <td>11</td>\n",
              "      <td>1</td>\n",
              "      <td>2</td>\n",
              "      <td>11</td>\n",
              "      <td>40</td>\n",
              "      <td>3</td>\n",
              "      <td>1</td>\n",
              "      <td>10</td>\n",
              "      <td>8</td>\n",
              "      <td>158</td>\n",
              "      <td>78</td>\n",
              "      <td>2</td>\n",
              "      <td>3</td>\n",
              "      <td>2</td>\n",
              "      <td>4</td>\n",
              "      <td>6</td>\n",
              "      <td>6</td>\n",
              "      <td>6</td>\n",
              "      <td>2</td>\n",
              "      <td>6</td>\n",
              "      <td>4</td>\n",
              "      <td>3</td>\n",
              "      <td>2</td>\n",
              "      <td>6</td>\n",
              "      <td>6</td>\n",
              "      <td>2</td>\n",
              "      <td>1</td>\n",
              "      <td>4</td>\n",
              "      <td>3</td>\n",
              "      <td>6</td>\n",
              "      <td>6</td>\n",
              "      <td>1</td>\n",
              "      <td>6</td>\n",
              "      <td>6</td>\n",
              "      <td>1100</td>\n",
              "      <td>1100</td>\n",
              "      <td>5</td>\n",
              "      <td>7</td>\n",
              "    </tr>\n",
              "    <tr>\n",
              "      <th>809</th>\n",
              "      <td>2</td>\n",
              "      <td>28</td>\n",
              "      <td>6</td>\n",
              "      <td>32</td>\n",
              "      <td>4</td>\n",
              "      <td>17</td>\n",
              "      <td>4</td>\n",
              "      <td>1</td>\n",
              "      <td>11</td>\n",
              "      <td>40</td>\n",
              "      <td>2</td>\n",
              "      <td>2</td>\n",
              "      <td>8</td>\n",
              "      <td>10</td>\n",
              "      <td>160</td>\n",
              "      <td>57</td>\n",
              "      <td>6</td>\n",
              "      <td>2</td>\n",
              "      <td>4</td>\n",
              "      <td>7</td>\n",
              "      <td>6</td>\n",
              "      <td>7</td>\n",
              "      <td>5</td>\n",
              "      <td>1</td>\n",
              "      <td>5</td>\n",
              "      <td>4</td>\n",
              "      <td>5</td>\n",
              "      <td>4</td>\n",
              "      <td>5</td>\n",
              "      <td>2</td>\n",
              "      <td>2</td>\n",
              "      <td>3</td>\n",
              "      <td>7</td>\n",
              "      <td>3</td>\n",
              "      <td>3</td>\n",
              "      <td>5</td>\n",
              "      <td>4</td>\n",
              "      <td>4</td>\n",
              "      <td>1</td>\n",
              "      <td>1500</td>\n",
              "      <td>1500</td>\n",
              "      <td>2</td>\n",
              "      <td>8</td>\n",
              "    </tr>\n",
              "  </tbody>\n",
              "</table>\n",
              "<p>810 rows × 43 columns</p>\n",
              "</div>\n",
              "      <button class=\"colab-df-convert\" onclick=\"convertToInteractive('df-7a1d5370-3b21-4cc1-accd-b12213280683')\"\n",
              "              title=\"Convert this dataframe to an interactive table.\"\n",
              "              style=\"display:none;\">\n",
              "        \n",
              "  <svg xmlns=\"http://www.w3.org/2000/svg\" height=\"24px\"viewBox=\"0 0 24 24\"\n",
              "       width=\"24px\">\n",
              "    <path d=\"M0 0h24v24H0V0z\" fill=\"none\"/>\n",
              "    <path d=\"M18.56 5.44l.94 2.06.94-2.06 2.06-.94-2.06-.94-.94-2.06-.94 2.06-2.06.94zm-11 1L8.5 8.5l.94-2.06 2.06-.94-2.06-.94L8.5 2.5l-.94 2.06-2.06.94zm10 10l.94 2.06.94-2.06 2.06-.94-2.06-.94-.94-2.06-.94 2.06-2.06.94z\"/><path d=\"M17.41 7.96l-1.37-1.37c-.4-.4-.92-.59-1.43-.59-.52 0-1.04.2-1.43.59L10.3 9.45l-7.72 7.72c-.78.78-.78 2.05 0 2.83L4 21.41c.39.39.9.59 1.41.59.51 0 1.02-.2 1.41-.59l7.78-7.78 2.81-2.81c.8-.78.8-2.07 0-2.86zM5.41 20L4 18.59l7.72-7.72 1.47 1.35L5.41 20z\"/>\n",
              "  </svg>\n",
              "      </button>\n",
              "      \n",
              "  <style>\n",
              "    .colab-df-container {\n",
              "      display:flex;\n",
              "      flex-wrap:wrap;\n",
              "      gap: 12px;\n",
              "    }\n",
              "\n",
              "    .colab-df-convert {\n",
              "      background-color: #E8F0FE;\n",
              "      border: none;\n",
              "      border-radius: 50%;\n",
              "      cursor: pointer;\n",
              "      display: none;\n",
              "      fill: #1967D2;\n",
              "      height: 32px;\n",
              "      padding: 0 0 0 0;\n",
              "      width: 32px;\n",
              "    }\n",
              "\n",
              "    .colab-df-convert:hover {\n",
              "      background-color: #E2EBFA;\n",
              "      box-shadow: 0px 1px 2px rgba(60, 64, 67, 0.3), 0px 1px 3px 1px rgba(60, 64, 67, 0.15);\n",
              "      fill: #174EA6;\n",
              "    }\n",
              "\n",
              "    [theme=dark] .colab-df-convert {\n",
              "      background-color: #3B4455;\n",
              "      fill: #D2E3FC;\n",
              "    }\n",
              "\n",
              "    [theme=dark] .colab-df-convert:hover {\n",
              "      background-color: #434B5C;\n",
              "      box-shadow: 0px 1px 3px 1px rgba(0, 0, 0, 0.15);\n",
              "      filter: drop-shadow(0px 1px 2px rgba(0, 0, 0, 0.3));\n",
              "      fill: #FFFFFF;\n",
              "    }\n",
              "  </style>\n",
              "\n",
              "      <script>\n",
              "        const buttonEl =\n",
              "          document.querySelector('#df-7a1d5370-3b21-4cc1-accd-b12213280683 button.colab-df-convert');\n",
              "        buttonEl.style.display =\n",
              "          google.colab.kernel.accessAllowed ? 'block' : 'none';\n",
              "\n",
              "        async function convertToInteractive(key) {\n",
              "          const element = document.querySelector('#df-7a1d5370-3b21-4cc1-accd-b12213280683');\n",
              "          const dataTable =\n",
              "            await google.colab.kernel.invokeFunction('convertToInteractive',\n",
              "                                                     [key], {});\n",
              "          if (!dataTable) return;\n",
              "\n",
              "          const docLinkHtml = 'Like what you see? Visit the ' +\n",
              "            '<a target=\"_blank\" href=https://colab.research.google.com/notebooks/data_table.ipynb>data table notebook</a>'\n",
              "            + ' to learn more about interactive tables.';\n",
              "          element.innerHTML = '';\n",
              "          dataTable['output_type'] = 'display_data';\n",
              "          await google.colab.output.renderOutput(dataTable, element);\n",
              "          const docLink = document.createElement('div');\n",
              "          docLink.innerHTML = docLinkHtml;\n",
              "          element.appendChild(docLink);\n",
              "        }\n",
              "      </script>\n",
              "    </div>\n",
              "  </div>\n",
              "  "
            ],
            "text/plain": [
              "     plec  wiek  KLASA_MIEJSCOWOSCI  WOJEWODZTWO  ...  fp65  fp66  fp70  fp106\n",
              "0       1    48                   1            2  ...  2000  3000     5      5\n",
              "1       1    55                   1            2  ...  1900  3000     6      5\n",
              "2       1    22                   1            2  ...  1100  2000     2      6\n",
              "3       1    36                   1            2  ...  3000  6000     4      5\n",
              "4       1    34                   1            2  ...  1200  6000     1      6\n",
              "..    ...   ...                 ...          ...  ...   ...   ...   ...    ...\n",
              "805     2    42                   6           32  ...  1200  3000     4      8\n",
              "806     2    31                   6           32  ...  3000  3200     4      7\n",
              "807     2    39                   6           32  ...  1300  2000     6      7\n",
              "808     2    52                   6           32  ...  1100  1100     5      7\n",
              "809     2    28                   6           32  ...  1500  1500     2      8\n",
              "\n",
              "[810 rows x 43 columns]"
            ]
          },
          "metadata": {},
          "execution_count": 3
        }
      ]
    },
    {
      "cell_type": "markdown",
      "source": [
        "Zadanie 1.  W badaniu udział wzięło **26** rozwiedzionych osób (zmienna fC11).\n",
        "w exelu jest opis i 4 oznacza osoby rozwiedzione"
      ],
      "metadata": {
        "id": "Gybm_VWUzoI1"
      }
    },
    {
      "cell_type": "code",
      "source": [
        "dane.fC11.value_counts()"
      ],
      "metadata": {
        "colab": {
          "base_uri": "https://localhost:8080/"
        },
        "id": "J9-ZPFZszexp",
        "outputId": "e7de0f4a-7994-42d5-ade6-ebc2aa282175"
      },
      "execution_count": null,
      "outputs": [
        {
          "output_type": "execute_result",
          "data": {
            "text/plain": [
              "2    566\n",
              "1    193\n",
              "4     26\n",
              "3     19\n",
              "6      4\n",
              "5      2\n",
              "Name: fC11, dtype: int64"
            ]
          },
          "metadata": {},
          "execution_count": 95
        }
      ]
    },
    {
      "cell_type": "markdown",
      "source": [
        "Zadanie 2. Średnia wieku (wiek) rozwiedzionych osób (zmienna fC11) wynosiła 46lat.       "
      ],
      "metadata": {
        "id": "h_X-NF7X0O3G"
      }
    },
    {
      "cell_type": "code",
      "source": [
        "\n",
        "dane_w=dane[(dane.fC11 == 4) ]\n",
        "dane_w.wiek.mean()\n",
        "\n"
      ],
      "metadata": {
        "colab": {
          "base_uri": "https://localhost:8080/"
        },
        "id": "XAwkXrJX0Qty",
        "outputId": "c7deb3bc-6b56-4172-96b3-81bf78386719"
      },
      "execution_count": null,
      "outputs": [
        {
          "output_type": "execute_result",
          "data": {
            "text/plain": [
              "46.53846153846154"
            ]
          },
          "metadata": {},
          "execution_count": 96
        }
      ]
    },
    {
      "cell_type": "markdown",
      "source": [
        "Mężczyzn (zmienna Plec), z województwa wielkopolskiego (zmienna WOJEWODZTWO) oraz kobiet z województwa podlaskiego udział w badaniu ankietowym wzięło łącznie 54.\n",
        "Płeć 1 to faceci 2 to kobiety.\n",
        "Województwo wielkopolskie to 30 a podlaskie to 20\n"
      ],
      "metadata": {
        "id": "bWZCPxIr0sNP"
      }
    },
    {
      "cell_type": "code",
      "source": [
        "dane_wlkp=dane[(dane.WOJEWODZTWO == 30) & (dane.plec == 1)]\n",
        "dane_podl=dane[(dane.WOJEWODZTWO == 20) & (dane.plec == 2)]\n",
        "dane_podl.count ## 17 wierszy co oznacza 17 kobiet\n",
        "dane_wlkp.count ## 37 wierszy co oznacza 37 mężczyzn\n",
        "suma = 17+37\n",
        "print(suma)"
      ],
      "metadata": {
        "colab": {
          "base_uri": "https://localhost:8080/"
        },
        "id": "XgyuzBp9sfW5",
        "outputId": "733434a6-865e-48dd-fac1-3969555db6f2"
      },
      "execution_count": null,
      "outputs": [
        {
          "output_type": "stream",
          "name": "stdout",
          "text": [
            "54\n"
          ]
        }
      ]
    },
    {
      "cell_type": "markdown",
      "source": [
        "Zadanie 4.  Kobiet (zmienna Plec) z województw (zmienna WOJEWODZTWO), których kod kończy się cyfrą 2, a które jednocześnie mieszkają na wsi (zmienna KLASA_MIEJSOWOSCI) w badaniu ankietowym udział wzięło 46 pań..                                                                               Wieś oznaczona jest numerem 6                                "
      ],
      "metadata": {
        "id": "9miksuHhuKp9"
      }
    },
    {
      "cell_type": "code",
      "source": [
        "dane_kobiety2=dane[(dane.WOJEWODZTWO == 2) &(dane.plec == 2)&(dane.KLASA_MIEJSCOWOSCI == 6)]\n",
        "dane_kobiety12=dane[(dane.WOJEWODZTWO == 12)&(dane.plec == 2)&(dane.KLASA_MIEJSCOWOSCI == 6)]\n",
        "dane_kobiety22=dane[(dane.WOJEWODZTWO == 22)&(dane.plec == 2)&(dane.KLASA_MIEJSCOWOSCI == 6)]\n",
        "dane_kobiety32=dane[(dane.WOJEWODZTWO == 32)&(dane.plec == 2)&(dane.KLASA_MIEJSCOWOSCI == 6)]\n",
        "dane_kobiety2.count ##12\n",
        "dane_kobiety12.count ##15\n",
        "dane_kobiety22.count ##14\n",
        "dane_kobiety32.count## 5\n",
        "suma = 12+15+14+5\n",
        "print(suma)"
      ],
      "metadata": {
        "colab": {
          "base_uri": "https://localhost:8080/"
        },
        "id": "JGRZ5110uhRq",
        "outputId": "99d82be5-84c1-4db6-bf7d-9f83dddeac14"
      },
      "execution_count": null,
      "outputs": [
        {
          "output_type": "stream",
          "name": "stdout",
          "text": [
            "46\n"
          ]
        }
      ]
    },
    {
      "cell_type": "markdown",
      "source": [
        "\n",
        "Zadanie 5. Uzupełnij poniższą tabelę krzyżową, w której zawarte są informacje o liczbie respondentów ze względu na ich stan cywilny  (zmienne fC11) i zmienną fp29 (Co jest według Pana/Pani ważniejsze w życiu?)                                                                                                                   \n",
        "\n",
        "Co jest według Pana ważniejsze w życiu?\n",
        "\n",
        "przyjemności, dostatek, brak stresu, (1)\n",
        "\n",
        "osiąganie ważnych celów mimo trudności, bólu i wyrzeczeń (2)\n",
        "\n",
        "kawaler/panna(1)\n",
        "żonaty/zamężna(2)\n",
        "wdowiec/wdowa(3)\n",
        "rozwiedziony/a(4)\n",
        "separacja prawna(5)\n",
        "separacja faktyczna(6)\n"
      ],
      "metadata": {
        "id": "Z9JI8P66wRy2"
      }
    },
    {
      "cell_type": "code",
      "source": [
        "dane_kaw1=dane[(dane.fC11 == 1) & (dane.fp29 == 1)]\n",
        "print(dane_kaw1)\n",
        "dane_kaw2=dane[(dane.fC11 == 1) & (dane.fp29 == 2)]\n",
        "print(dane_kaw2)"
      ],
      "metadata": {
        "colab": {
          "base_uri": "https://localhost:8080/"
        },
        "id": "-a7y_V9AxFvD",
        "outputId": "149bdf11-2565-4dcc-eaf8-3f2da5e81b38"
      },
      "execution_count": null,
      "outputs": [
        {
          "output_type": "stream",
          "name": "stdout",
          "text": [
            "     plec  wiek  KLASA_MIEJSCOWOSCI  WOJEWODZTWO  ...  fp65  fp66  fp70  fp106\n",
            "2       1    22                   1            2  ...  1100  2000     2      6\n",
            "3       1    36                   1            2  ...  3000  6000     4      5\n",
            "4       1    34                   1            2  ...  1200  6000     1      6\n",
            "9       1    20                   4            2  ...  1600  1900     1      7\n",
            "13      1    27                   5            2  ...   700  1600     3      5\n",
            "..    ...   ...                 ...          ...  ...   ...   ...   ...    ...\n",
            "761     2    28                   5           30  ...   700   800     3      8\n",
            "762     2    23                   5           30  ...  1000  2000     5      7\n",
            "780     1    27                   4           32  ...   700   800     2      5\n",
            "800     2    49                   3           32  ...  2450  2450     4      3\n",
            "801     2    23                   4           32  ...  1100  1200     3      7\n",
            "\n",
            "[106 rows x 43 columns]\n",
            "     plec  wiek  KLASA_MIEJSCOWOSCI  WOJEWODZTWO  ...  fp65  fp66  fp70  fp106\n",
            "11      1    31                   4            2  ...  1600  1600     3      5\n",
            "31      2    34                   1            2  ...  2400  3400     6      7\n",
            "68      1    29                   5            4  ...  1200  1200     2      8\n",
            "73      1    35                   6            4  ...   400   600     5      2\n",
            "80      2    25                   2            4  ...   765  2000     2      8\n",
            "..    ...   ...                 ...          ...  ...   ...   ...   ...    ...\n",
            "777     1    23                   2           32  ...  2000  3000     5      5\n",
            "781     1    24                   4           32  ...  1500  2000     3      5\n",
            "785     1    29                   4           32  ...  1300  2500     5      7\n",
            "793     1    23                   6           32  ...   200   800     3      2\n",
            "809     2    28                   6           32  ...  1500  1500     2      8\n",
            "\n",
            "[87 rows x 43 columns]\n"
          ]
        }
      ]
    },
    {
      "cell_type": "code",
      "source": [
        "dane_zon1=dane[(dane.fC11 == 2) & (dane.fp29 == 1)]\n",
        "print(dane_zon1)\n",
        "dane_zon2=dane[(dane.fC11 == 2) & (dane.fp29 == 2)]\n",
        "print(dane_zon2)\n",
        "## i tak dalej tylko podmieniać numerki"
      ],
      "metadata": {
        "colab": {
          "base_uri": "https://localhost:8080/"
        },
        "id": "9X6UJsxgyiRn",
        "outputId": "7f343459-732f-407a-83d9-a41779f2bb48"
      },
      "execution_count": null,
      "outputs": [
        {
          "output_type": "stream",
          "name": "stdout",
          "text": [
            "     plec  wiek  KLASA_MIEJSCOWOSCI  WOJEWODZTWO  ...  fp65  fp66  fp70  fp106\n",
            "1       1    55                   1            2  ...  1900  3000     6      5\n",
            "5       1    31                   1            2  ...  4000  6000     3      5\n",
            "6       1    58                   3            2  ...  1500  1500     4      1\n",
            "10      1    31                   4            2  ...  5000  6000     4      5\n",
            "12      1    46                   4            2  ...  2100  3200     4      7\n",
            "..    ...   ...                 ...          ...  ...   ...   ...   ...    ...\n",
            "791     1    33                   6           32  ...  2000  2000     4      7\n",
            "792     1    28                   6           32  ...  1700  4200     4      7\n",
            "799     2    33                   2           32  ...  2000  4500     3      7\n",
            "803     2    55                   5           32  ...  3000  3500     2      5\n",
            "808     2    52                   6           32  ...  1100  1100     5      7\n",
            "\n",
            "[240 rows x 43 columns]\n",
            "     plec  wiek  KLASA_MIEJSCOWOSCI  WOJEWODZTWO  ...  fp65  fp66  fp70  fp106\n",
            "8       1    59                   4            2  ...  2800  3500     5      3\n",
            "14      1    73                   5            2  ...  1420  1400     5      5\n",
            "16      1    60                   6            2  ...  1400  2000     5      8\n",
            "19      1    55                   6            2  ...  1900  3000     3      7\n",
            "24      1    43                   6            2  ...  2000  2500     4      7\n",
            "..    ...   ...                 ...          ...  ...   ...   ...   ...    ...\n",
            "796     2    51                   2           32  ...  2800  3200     4      1\n",
            "797     2    39                   2           32  ...  1500  3000     4      1\n",
            "802     2    50                   5           32  ...  3500  3500     4      8\n",
            "804     2    33                   5           32  ...  2500  3000     3      5\n",
            "806     2    31                   6           32  ...  3000  3200     4      7\n",
            "\n",
            "[326 rows x 43 columns]\n"
          ]
        }
      ]
    },
    {
      "cell_type": "code",
      "source": [
        ""
      ],
      "metadata": {
        "id": "_dcllfpeyu2h"
      },
      "execution_count": null,
      "outputs": []
    },
    {
      "cell_type": "markdown",
      "source": [
        "Zadanie 6.  Proszę oszacować parametru modelu regresji liniowej, w której zmienną objaśnianą będzie waga (fp65), a zmiennymi objaśniającymi wzrost (fp55) oraz wiek (wiek) oraz uzupełnić brakujące wartości w poniższym wydruku (do 2 miejsc po przecinku). Proszę pisemnie  zinterpretować parametr stojący przy zmiennej wzrost (poniżej)  [3p].\t       "
      ],
      "metadata": {
        "id": "58tsMRiHzHzO"
      }
    },
    {
      "cell_type": "markdown",
      "source": [
        "musimy wpisać odpowiedni zakres w  tym query żeby wyszło żęby liczba obserwacji była poprawna"
      ],
      "metadata": {
        "id": "OwRHmPvP9xvZ"
      }
    },
    {
      "cell_type": "code",
      "source": [
        "dane.dtypes"
      ],
      "metadata": {
        "colab": {
          "base_uri": "https://localhost:8080/"
        },
        "id": "Mau5DzZU9Adu",
        "outputId": "989968d3-ca2f-491d-f6d3-736a3c3f41c4"
      },
      "execution_count": null,
      "outputs": [
        {
          "output_type": "execute_result",
          "data": {
            "text/plain": [
              "plec                  int64\n",
              "wiek                  int64\n",
              "KLASA_MIEJSCOWOSCI    int64\n",
              "WOJEWODZTWO           int64\n",
              "eduk4_2011            int64\n",
              "lata_nauki_2011       int64\n",
              "fC4                   int64\n",
              "fC11                  int64\n",
              "fC37                  int64\n",
              "fD4                   int64\n",
              "fp3                   int64\n",
              "fp29                  int64\n",
              "fp40                  int64\n",
              "fp41                  int64\n",
              "fp55                  int64\n",
              "fp56                  int64\n",
              "fp58_1                int64\n",
              "fp58_2                int64\n",
              "fp58_3                int64\n",
              "fp58_4                int64\n",
              "fp58_5                int64\n",
              "fp58_6                int64\n",
              "fp58_7                int64\n",
              "fp58_8                int64\n",
              "fp58_9                int64\n",
              "fp58_10               int64\n",
              "fp58_11               int64\n",
              "fp58_12               int64\n",
              "fp58_13               int64\n",
              "fp58_14               int64\n",
              "fp58_15               int64\n",
              "fp58_16               int64\n",
              "fp58_17               int64\n",
              "fp58_18               int64\n",
              "fp58_19               int64\n",
              "fp58_20               int64\n",
              "fp58_21               int64\n",
              "fp58_22               int64\n",
              "fp58_23               int64\n",
              "fp65                  int64\n",
              "fp66                  int64\n",
              "fp70                  int64\n",
              "fp106                 int64\n",
              "dtype: object"
            ]
          },
          "metadata": {},
          "execution_count": 136
        }
      ]
    },
    {
      "cell_type": "code",
      "source": [
        "\n",
        "dane_sub = dane.query(\"fp55 > 149 & fp55 < 199 & wiek < 75 & wiek > 17 & fp65 > -1  & fp65 < 27001\" )\n",
        "\n",
        "model1 = smf.ols(formula= \"fp65 ~ fp55 + wiek \", data =dane_sub)\n",
        "model1_fit = model1.fit()\n",
        "print(model1_fit.summary())\n",
        "\n",
        "\n"
      ],
      "metadata": {
        "colab": {
          "base_uri": "https://localhost:8080/"
        },
        "id": "OQr3D6mjzj7L",
        "outputId": "fb924962-094d-4bf9-eec8-f164dcb76100"
      },
      "execution_count": null,
      "outputs": [
        {
          "output_type": "stream",
          "name": "stdout",
          "text": [
            "                            OLS Regression Results                            \n",
            "==============================================================================\n",
            "Dep. Variable:                   fp65   R-squared:                       0.045\n",
            "Model:                            OLS   Adj. R-squared:                  0.043\n",
            "Method:                 Least Squares   F-statistic:                     19.16\n",
            "Date:                Wed, 05 Jan 2022   Prob (F-statistic):           7.41e-09\n",
            "Time:                        10:09:17   Log-Likelihood:                -7135.5\n",
            "No. Observations:                 810   AIC:                         1.428e+04\n",
            "Df Residuals:                     807   BIC:                         1.429e+04\n",
            "Df Model:                           2                                         \n",
            "Covariance Type:            nonrobust                                         \n",
            "==============================================================================\n",
            "                 coef    std err          t      P>|t|      [0.025      0.975]\n",
            "------------------------------------------------------------------------------\n",
            "Intercept  -4691.3178   1156.293     -4.057      0.000   -6961.014   -2421.622\n",
            "fp55          34.4078      6.459      5.327      0.000      21.729      47.086\n",
            "wiek          19.6958      4.979      3.956      0.000       9.922      29.470\n",
            "==============================================================================\n",
            "Omnibus:                     1008.825   Durbin-Watson:                   1.892\n",
            "Prob(Omnibus):                  0.000   Jarque-Bera (JB):           178641.120\n",
            "Skew:                           6.144   Prob(JB):                         0.00\n",
            "Kurtosis:                      74.708   Cond. No.                     3.57e+03\n",
            "==============================================================================\n",
            "\n",
            "Warnings:\n",
            "[1] Standard Errors assume that the covariance matrix of the errors is correctly specified.\n",
            "[2] The condition number is large, 3.57e+03. This might indicate that there are\n",
            "strong multicollinearity or other numerical problems.\n"
          ]
        }
      ]
    },
    {
      "cell_type": "markdown",
      "source": [
        "  Uzupełnij informację o odsetku respondentów ze względu na ich stan cywilny (zmienna fC11) wpisując odpowiednie wartości nad każdym słupkiem osobno. \n",
        "  Tutaj skorzystam z informacji które posiadam z  zadania 5 "
      ],
      "metadata": {
        "id": "mNh2g1_PALXv"
      }
    },
    {
      "cell_type": "code",
      "source": [
        "procent_sing= (106+87)/810\n",
        "procent_zon= (240\t+326)/810\n",
        "procent_wdow=(5\t+14)/810\n",
        "procent_rozw=(10+16)/810\n",
        "procent_sepP= 2/810\n",
        "procent_sepF= 4/810\n",
        "\n",
        "print(procent_sing,  procent_zon  ,procent_wdow,procent_rozw,procent_sepP,procent_sepF)"
      ],
      "metadata": {
        "colab": {
          "base_uri": "https://localhost:8080/"
        },
        "id": "RQ7YjzYeBnNi",
        "outputId": "8443e0e0-61dd-4e7a-a51d-3fc69233cb37"
      },
      "execution_count": null,
      "outputs": [
        {
          "output_type": "stream",
          "name": "stdout",
          "text": [
            "0.2382716049382716 0.6987654320987654 0.02345679012345679 0.03209876543209877 0.0024691358024691358 0.0049382716049382715\n"
          ]
        }
      ]
    },
    {
      "cell_type": "markdown",
      "source": [
        "Zadanie 8.  Oblicz i zinterpretuj współczynnik korelacji liniowej Pearsona pomiędzy wiekiem  (zmienna wiek) a wagą (zmienna fp56) kobiet (zmienna Plec) zamieszkujących wieś (zmienna KLASA_MIEJSOWOSCI).\t\n",
        "Kobiety nr 2, wieś nr 6  \n",
        "Współczynnik r przyjmuje wartości z przedziału [-1,1], Im wartość bliższa 1 tym zależność jest silniejsza i dodatnia (jeżeli x rośnie to y rośnie), Im wartość bliższa -1 tym zależność jest silniejsza i ujemna (jeżeli x rośnie to y maleje), r=0 oznacza brak związku liniowego pomiędzy zmiennymi."
      ],
      "metadata": {
        "id": "fqAwysjbt3H5"
      }
    },
    {
      "cell_type": "code",
      "source": [
        ""
      ],
      "metadata": {
        "id": "9Kf4qP_8uFQt"
      },
      "execution_count": null,
      "outputs": []
    },
    {
      "cell_type": "code",
      "source": [
        "dane_wiek= [(dane.wiek) & (dane.KLASA_MIEJSCOWOSCI == 6) & (dane.plec == 2 )  ]\n",
        "dane_waga = [ (dane.fp56) & (dane.KLASA_MIEJSCOWOSCI == 6)& (dane.plec == 2 )]\n",
        "np.corrcoef(dane_wiek, dane_waga)[0, 1]\n",
        "## to jest chyba nie poprawne ale nie wiem"
      ],
      "metadata": {
        "colab": {
          "base_uri": "https://localhost:8080/"
        },
        "id": "aSfFDwS5wfzo",
        "outputId": "f8ba0aa0-7ab7-40c5-efc4-11b3459203e7"
      },
      "execution_count": null,
      "outputs": [
        {
          "output_type": "execute_result",
          "data": {
            "text/plain": [
              "0.41373527735772253"
            ]
          },
          "metadata": {},
          "execution_count": 17
        }
      ]
    },
    {
      "cell_type": "code",
      "source": [
        "dane_wiek= dane[[\"wiek\" ,\"KLASA_MIEJSCOWOSCI\" ,\"plec\"]  ]\n",
        "dane_waga = dane[ [\"fp56\" , \"KLASA_MIEJSCOWOSCI\", \"plec\"]]\n",
        "dane_wiek\n",
        "dane_wiek2 = dane_wiek[(dane_wiek.wiek)& (dane_wiek.KLASA_MIEJSCOWOSCI == 6) & (dane_wiek.plec == 2 )]\n",
        "dane_waga2 = dane_waga[(dane_waga.fp56) & (dane_waga.KLASA_MIEJSCOWOSCI == 6)& (dane_waga.plec == 2 )]\n",
        "np.corrcoef(dane_wiek2, dane_waga2)[0, 1]"
      ],
      "metadata": {
        "colab": {
          "base_uri": "https://localhost:8080/"
        },
        "id": "cMIidqTBy-MO",
        "outputId": "c6b8109b-a392-437c-b0cf-2adf3efe6d06"
      },
      "execution_count": null,
      "outputs": [
        {
          "output_type": "execute_result",
          "data": {
            "text/plain": [
              "0.9999967441120318"
            ]
          },
          "metadata": {},
          "execution_count": 32
        }
      ]
    },
    {
      "cell_type": "markdown",
      "source": [
        "Zadanie 9.  Kwartyle wagi (zmienna fp56) mężczyzn (zmienna Plec) z województwa wielkopolskiego (zmienna WOJEWODZTWO) nr to 30 woj a plec 1 \n",
        "wynosiły:\t    \n",
        "q1 =80 \n",
        "q2 = 85\n",
        "q3=95                                                                                              "
      ],
      "metadata": {
        "id": "nQcU8sdw2vxY"
      }
    },
    {
      "cell_type": "code",
      "source": [
        "dane_waga =dane[[\"fp56\",\"plec\",\"WOJEWODZTWO\"]]\n",
        "dane_waga2 = dane_waga[(dane_waga.plec == 1 )& (dane_waga.WOJEWODZTWO == 30)]\n",
        "dane_waga2.describe()"
      ],
      "metadata": {
        "colab": {
          "base_uri": "https://localhost:8080/",
          "height": 300
        },
        "id": "Pd8ztnD41qtv",
        "outputId": "458bea07-e6fe-43a6-ec9c-0ff823739688"
      },
      "execution_count": null,
      "outputs": [
        {
          "output_type": "execute_result",
          "data": {
            "text/html": [
              "\n",
              "  <div id=\"df-9aa4ab76-e42e-4fc4-a87a-8d8fedb4e4df\">\n",
              "    <div class=\"colab-df-container\">\n",
              "      <div>\n",
              "<style scoped>\n",
              "    .dataframe tbody tr th:only-of-type {\n",
              "        vertical-align: middle;\n",
              "    }\n",
              "\n",
              "    .dataframe tbody tr th {\n",
              "        vertical-align: top;\n",
              "    }\n",
              "\n",
              "    .dataframe thead th {\n",
              "        text-align: right;\n",
              "    }\n",
              "</style>\n",
              "<table border=\"1\" class=\"dataframe\">\n",
              "  <thead>\n",
              "    <tr style=\"text-align: right;\">\n",
              "      <th></th>\n",
              "      <th>fp56</th>\n",
              "      <th>plec</th>\n",
              "      <th>WOJEWODZTWO</th>\n",
              "    </tr>\n",
              "  </thead>\n",
              "  <tbody>\n",
              "    <tr>\n",
              "      <th>count</th>\n",
              "      <td>37.000000</td>\n",
              "      <td>37.0</td>\n",
              "      <td>37.0</td>\n",
              "    </tr>\n",
              "    <tr>\n",
              "      <th>mean</th>\n",
              "      <td>88.648649</td>\n",
              "      <td>1.0</td>\n",
              "      <td>30.0</td>\n",
              "    </tr>\n",
              "    <tr>\n",
              "      <th>std</th>\n",
              "      <td>11.463023</td>\n",
              "      <td>0.0</td>\n",
              "      <td>0.0</td>\n",
              "    </tr>\n",
              "    <tr>\n",
              "      <th>min</th>\n",
              "      <td>67.000000</td>\n",
              "      <td>1.0</td>\n",
              "      <td>30.0</td>\n",
              "    </tr>\n",
              "    <tr>\n",
              "      <th>25%</th>\n",
              "      <td>80.000000</td>\n",
              "      <td>1.0</td>\n",
              "      <td>30.0</td>\n",
              "    </tr>\n",
              "    <tr>\n",
              "      <th>50%</th>\n",
              "      <td>85.000000</td>\n",
              "      <td>1.0</td>\n",
              "      <td>30.0</td>\n",
              "    </tr>\n",
              "    <tr>\n",
              "      <th>75%</th>\n",
              "      <td>95.000000</td>\n",
              "      <td>1.0</td>\n",
              "      <td>30.0</td>\n",
              "    </tr>\n",
              "    <tr>\n",
              "      <th>max</th>\n",
              "      <td>115.000000</td>\n",
              "      <td>1.0</td>\n",
              "      <td>30.0</td>\n",
              "    </tr>\n",
              "  </tbody>\n",
              "</table>\n",
              "</div>\n",
              "      <button class=\"colab-df-convert\" onclick=\"convertToInteractive('df-9aa4ab76-e42e-4fc4-a87a-8d8fedb4e4df')\"\n",
              "              title=\"Convert this dataframe to an interactive table.\"\n",
              "              style=\"display:none;\">\n",
              "        \n",
              "  <svg xmlns=\"http://www.w3.org/2000/svg\" height=\"24px\"viewBox=\"0 0 24 24\"\n",
              "       width=\"24px\">\n",
              "    <path d=\"M0 0h24v24H0V0z\" fill=\"none\"/>\n",
              "    <path d=\"M18.56 5.44l.94 2.06.94-2.06 2.06-.94-2.06-.94-.94-2.06-.94 2.06-2.06.94zm-11 1L8.5 8.5l.94-2.06 2.06-.94-2.06-.94L8.5 2.5l-.94 2.06-2.06.94zm10 10l.94 2.06.94-2.06 2.06-.94-2.06-.94-.94-2.06-.94 2.06-2.06.94z\"/><path d=\"M17.41 7.96l-1.37-1.37c-.4-.4-.92-.59-1.43-.59-.52 0-1.04.2-1.43.59L10.3 9.45l-7.72 7.72c-.78.78-.78 2.05 0 2.83L4 21.41c.39.39.9.59 1.41.59.51 0 1.02-.2 1.41-.59l7.78-7.78 2.81-2.81c.8-.78.8-2.07 0-2.86zM5.41 20L4 18.59l7.72-7.72 1.47 1.35L5.41 20z\"/>\n",
              "  </svg>\n",
              "      </button>\n",
              "      \n",
              "  <style>\n",
              "    .colab-df-container {\n",
              "      display:flex;\n",
              "      flex-wrap:wrap;\n",
              "      gap: 12px;\n",
              "    }\n",
              "\n",
              "    .colab-df-convert {\n",
              "      background-color: #E8F0FE;\n",
              "      border: none;\n",
              "      border-radius: 50%;\n",
              "      cursor: pointer;\n",
              "      display: none;\n",
              "      fill: #1967D2;\n",
              "      height: 32px;\n",
              "      padding: 0 0 0 0;\n",
              "      width: 32px;\n",
              "    }\n",
              "\n",
              "    .colab-df-convert:hover {\n",
              "      background-color: #E2EBFA;\n",
              "      box-shadow: 0px 1px 2px rgba(60, 64, 67, 0.3), 0px 1px 3px 1px rgba(60, 64, 67, 0.15);\n",
              "      fill: #174EA6;\n",
              "    }\n",
              "\n",
              "    [theme=dark] .colab-df-convert {\n",
              "      background-color: #3B4455;\n",
              "      fill: #D2E3FC;\n",
              "    }\n",
              "\n",
              "    [theme=dark] .colab-df-convert:hover {\n",
              "      background-color: #434B5C;\n",
              "      box-shadow: 0px 1px 3px 1px rgba(0, 0, 0, 0.15);\n",
              "      filter: drop-shadow(0px 1px 2px rgba(0, 0, 0, 0.3));\n",
              "      fill: #FFFFFF;\n",
              "    }\n",
              "  </style>\n",
              "\n",
              "      <script>\n",
              "        const buttonEl =\n",
              "          document.querySelector('#df-9aa4ab76-e42e-4fc4-a87a-8d8fedb4e4df button.colab-df-convert');\n",
              "        buttonEl.style.display =\n",
              "          google.colab.kernel.accessAllowed ? 'block' : 'none';\n",
              "\n",
              "        async function convertToInteractive(key) {\n",
              "          const element = document.querySelector('#df-9aa4ab76-e42e-4fc4-a87a-8d8fedb4e4df');\n",
              "          const dataTable =\n",
              "            await google.colab.kernel.invokeFunction('convertToInteractive',\n",
              "                                                     [key], {});\n",
              "          if (!dataTable) return;\n",
              "\n",
              "          const docLinkHtml = 'Like what you see? Visit the ' +\n",
              "            '<a target=\"_blank\" href=https://colab.research.google.com/notebooks/data_table.ipynb>data table notebook</a>'\n",
              "            + ' to learn more about interactive tables.';\n",
              "          element.innerHTML = '';\n",
              "          dataTable['output_type'] = 'display_data';\n",
              "          await google.colab.output.renderOutput(dataTable, element);\n",
              "          const docLink = document.createElement('div');\n",
              "          docLink.innerHTML = docLinkHtml;\n",
              "          element.appendChild(docLink);\n",
              "        }\n",
              "      </script>\n",
              "    </div>\n",
              "  </div>\n",
              "  "
            ],
            "text/plain": [
              "             fp56  plec  WOJEWODZTWO\n",
              "count   37.000000  37.0         37.0\n",
              "mean    88.648649   1.0         30.0\n",
              "std     11.463023   0.0          0.0\n",
              "min     67.000000   1.0         30.0\n",
              "25%     80.000000   1.0         30.0\n",
              "50%     85.000000   1.0         30.0\n",
              "75%     95.000000   1.0         30.0\n",
              "max    115.000000   1.0         30.0"
            ]
          },
          "metadata": {},
          "execution_count": 35
        }
      ]
    }
  ]
}